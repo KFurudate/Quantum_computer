{
  "nbformat": 4,
  "nbformat_minor": 0,
  "metadata": {
    "colab": {
      "name": "001_qubit_ja.ipynb",
      "provenance": [],
      "collapsed_sections": [],
      "authorship_tag": "ABX9TyNTurSedhfnfD8+NBF1T+3n",
      "include_colab_link": true
    },
    "kernelspec": {
      "name": "python3",
      "display_name": "Python 3"
    },
    "language_info": {
      "name": "python"
    }
  },
  "cells": [
    {
      "cell_type": "markdown",
      "metadata": {
        "id": "view-in-github",
        "colab_type": "text"
      },
      "source": [
        "<a href=\"https://colab.research.google.com/github/KFurudate/Quantum_computer/blob/main/001_qubit_ja.ipynb\" target=\"_parent\"><img src=\"https://colab.research.google.com/assets/colab-badge.svg\" alt=\"Open In Colab\"/></a>"
      ]
    },
    {
      "cell_type": "markdown",
      "metadata": {
        "id": "lTcoVByO4Y6k"
      },
      "source": [
        "## 量子ビットの操作"
      ]
    },
    {
      "cell_type": "markdown",
      "metadata": {
        "id": "XJ5BBFSV4VnR"
      },
      "source": [
        "### １量子ビットの計算"
      ]
    },
    {
      "cell_type": "code",
      "metadata": {
        "colab": {
          "base_uri": "https://localhost:8080/"
        },
        "id": "SrnUTBH_4K-Q",
        "outputId": "45dd86b7-668a-493a-e60e-eefe8d5be7cb"
      },
      "source": [
        "!pip install blueqat"
      ],
      "execution_count": 1,
      "outputs": [
        {
          "output_type": "stream",
          "text": [
            "Collecting blueqat\n",
            "\u001b[?25l  Downloading https://files.pythonhosted.org/packages/42/44/58c8fb85d0f7fb40eee88da1181ca698874e2484d5fdb8c0266ad82e0ec3/blueqat-0.4.2-py3-none-any.whl (62kB)\n",
            "\r\u001b[K     |█████▎                          | 10kB 15.3MB/s eta 0:00:01\r\u001b[K     |██████████▌                     | 20kB 22.0MB/s eta 0:00:01\r\u001b[K     |███████████████▊                | 30kB 26.8MB/s eta 0:00:01\r\u001b[K     |█████████████████████           | 40kB 26.5MB/s eta 0:00:01\r\u001b[K     |██████████████████████████▎     | 51kB 27.0MB/s eta 0:00:01\r\u001b[K     |███████████████████████████████▌| 61kB 22.7MB/s eta 0:00:01\r\u001b[K     |████████████████████████████████| 71kB 6.7MB/s \n",
            "\u001b[?25hRequirement already satisfied: scipy>=1.1.0 in /usr/local/lib/python3.7/dist-packages (from blueqat) (1.4.1)\n",
            "Requirement already satisfied: numpy~=1.12 in /usr/local/lib/python3.7/dist-packages (from blueqat) (1.19.5)\n",
            "Installing collected packages: blueqat\n",
            "Successfully installed blueqat-0.4.2\n"
          ],
          "name": "stdout"
        }
      ]
    },
    {
      "cell_type": "markdown",
      "metadata": {
        "id": "Tamscjo34duS"
      },
      "source": [
        "### 量子回路の作成"
      ]
    },
    {
      "cell_type": "markdown",
      "metadata": {
        "id": "t3fCE3xT4fE7"
      },
      "source": [
        "量子コンピュータでは、量子ゲートを順番に繋げた、量子回路を作ります。\n",
        "\n",
        "Circuitで回路を準備し、その後ろに量子ゲートを繋げます。\n",
        "\n",
        "今回はxゲートを0番目の量子ビットにかけてみましょう。\n",
        "xと書き、カッコの中に量子ビットの番号である0を入れます。\n",
        "\n",
        "最後に答えを取り出す測定を、mと書いて、runで100回実行をします。\n",
        "\n",
        "最初に回路を作るためのツール読み込み、２行目に量子回路を書いてみます。"
      ]
    },
    {
      "cell_type": "code",
      "metadata": {
        "colab": {
          "base_uri": "https://localhost:8080/"
        },
        "id": "8ScrqFn44Nq-",
        "outputId": "5f377428-dee3-4c56-90c1-6c04bd21d51f"
      },
      "source": [
        "from blueqat import Circuit\n",
        "Circuit().x[0].m[:].run(shots=100)"
      ],
      "execution_count": 2,
      "outputs": [
        {
          "output_type": "execute_result",
          "data": {
            "text/plain": [
              "Counter({'1': 100})"
            ]
          },
          "metadata": {
            "tags": []
          },
          "execution_count": 2
        }
      ]
    },
    {
      "cell_type": "markdown",
      "metadata": {
        "id": "INztIehb4tDV"
      },
      "source": [
        "答えは1が100回出ました。 \n",
        "\n",
        "このとき、量子回路は0からスタートし、以下のようになります。\n",
        "\n",
        "0 ----X---\n",
        "\n",
        "今回は0からスタートし、0を1にするXゲートを使って最初の計算を行いました。"
      ]
    },
    {
      "cell_type": "markdown",
      "metadata": {
        "id": "8d5gFh_n4zZC"
      },
      "source": [
        "ここでは 1量子ビット操作の概要を説明します。"
      ]
    },
    {
      "cell_type": "markdown",
      "metadata": {
        "id": "jYNqG8_l42NQ"
      },
      "source": [
        "### 量子ビット"
      ]
    },
    {
      "cell_type": "markdown",
      "metadata": {
        "id": "HiynE6Fh45v0"
      },
      "source": [
        "古典コンピュータは1bitに対して0または1の値を入力することができます。\n",
        "\n",
        "量子ビットでは1bitのことを1qubitと言い、ベクトルで表現します。\n",
        "\n",
        "$\\lvert0\\rangle$, $\\lvert1\\rangle$ はそれぞれ"
      ]
    },
    {
      "cell_type": "markdown",
      "metadata": {
        "id": "Rra39a_E47cd"
      },
      "source": [
        "$$\n",
        "\\lvert0\\rangle = \\begin{pmatrix}1\\\\0\\end{pmatrix} , \\lvert 1 \\rangle = \\begin{pmatrix}0\\\\1\\end{pmatrix}\n",
        "$$"
      ]
    },
    {
      "cell_type": "markdown",
      "metadata": {
        "id": "j3pZXPrY5PqR"
      },
      "source": [
        "と表します。"
      ]
    },
    {
      "cell_type": "markdown",
      "metadata": {
        "id": "PSbpjJpL5S7A"
      },
      "source": [
        "一般的に1qubitには $\\lvert0\\rangle$, $\\lvert1\\rangle$ と複素数 $\\alpha,\\beta$ を用いて $\\alpha\\lvert0\\rangle+\\beta\\lvert1\\rangle$ で表せます。\n",
        "\n",
        "\n",
        "ただし、\n",
        "\n"
      ]
    },
    {
      "cell_type": "markdown",
      "metadata": {
        "id": "nUpyt7tK5Xrf"
      },
      "source": [
        "$$\n",
        "|\\alpha|^2 + |\\beta|^2 = 1\n",
        "$$"
      ]
    },
    {
      "cell_type": "markdown",
      "metadata": {
        "id": "4l92FlUZ5Zaq"
      },
      "source": [
        "である必要があります。"
      ]
    },
    {
      "cell_type": "markdown",
      "metadata": {
        "id": "mKKXuOdyDpiM"
      },
      "source": [
        "### 回路の作成"
      ]
    },
    {
      "cell_type": "markdown",
      "metadata": {
        "id": "OI-89EJiDsK9"
      },
      "source": [
        "初期値を $|0\\rangle$ とします。"
      ]
    },
    {
      "cell_type": "markdown",
      "metadata": {
        "id": "1SPmCzyPDuz9"
      },
      "source": [
        "回路はゲートと呼ばれる行列をかけて作ります。\n",
        "\n",
        "試しにXゲートをかけてみます。\n",
        "\n",
        "Xゲートは以下のような行列です。"
      ]
    },
    {
      "cell_type": "markdown",
      "metadata": {
        "id": "dWiHACE2D6BO"
      },
      "source": [
        "$$\n",
        "X = \\begin{pmatrix} 0&1\\\\1&0\\end{pmatrix}\n",
        "$$"
      ]
    },
    {
      "cell_type": "markdown",
      "metadata": {
        "id": "uo-_nIdbEFBC"
      },
      "source": [
        "これを $|0\\rangle$ にかけると"
      ]
    },
    {
      "cell_type": "markdown",
      "metadata": {
        "id": "BN8IlhKNEHK4"
      },
      "source": [
        "$$\n",
        "X \\lvert 0 \\rangle = \\begin{pmatrix} 0&1\\\\1&0\\end{pmatrix}\\begin{pmatrix}1\\\\0\\end{pmatrix} = \\begin{pmatrix}0\\\\1\\end{pmatrix} = \\lvert 1 \\rangle\n",
        "$$\n"
      ]
    },
    {
      "cell_type": "markdown",
      "metadata": {
        "id": "POxOHg2XEOhu"
      },
      "source": [
        "と $\\lvert1\\rangle$ に反転できることがわかります。"
      ]
    },
    {
      "cell_type": "markdown",
      "metadata": {
        "id": "7ATV48i7E-Uu"
      },
      "source": [
        "### 測定"
      ]
    },
    {
      "cell_type": "markdown",
      "metadata": {
        "id": "MC9vDsOIFBR_"
      },
      "source": [
        "量子コンピュータでは確率的に 0,1 が出力されますがこの出力させる操作を測定と言います。\n",
        "\n",
        "0,1 それぞれの出力される確率は $\\alpha\\lvert0\\rangle+\\beta\\lvert1\\rangle$ に対して、それぞれ $|\\alpha|^2, |\\beta|^2$ となります。"
      ]
    },
    {
      "cell_type": "code",
      "metadata": {
        "id": "0lPHZwT_D4pD"
      },
      "source": [
        ""
      ],
      "execution_count": null,
      "outputs": []
    }
  ]
}