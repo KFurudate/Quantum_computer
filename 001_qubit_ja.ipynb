{
  "nbformat": 4,
  "nbformat_minor": 0,
  "metadata": {
    "colab": {
      "name": "001_qubit_ja.ipynb",
      "provenance": [],
      "collapsed_sections": [],
      "authorship_tag": "ABX9TyP2jBHnRRPOsd//IROjSZTQ",
      "include_colab_link": true
    },
    "kernelspec": {
      "name": "python3",
      "display_name": "Python 3"
    },
    "language_info": {
      "name": "python"
    }
  },
  "cells": [
    {
      "cell_type": "markdown",
      "metadata": {
        "id": "view-in-github",
        "colab_type": "text"
      },
      "source": [
        "<a href=\"https://colab.research.google.com/github/KFurudate/Quantum_computer/blob/main/001_qubit_ja.ipynb\" target=\"_parent\"><img src=\"https://colab.research.google.com/assets/colab-badge.svg\" alt=\"Open In Colab\"/></a>"
      ]
    },
    {
      "cell_type": "markdown",
      "metadata": {
        "id": "T7-rL1suOcmV"
      },
      "source": [
        "Blueqatさんのチュートリアルで勉強させていただきました！"
      ]
    },
    {
      "cell_type": "markdown",
      "metadata": {
        "id": "IpEbQi2GObUR"
      },
      "source": [
        "https://github.com/Blueqat/Blueqat-tutorials/blob/master/tutorial-ja/001_qubit_ja.ipynb"
      ]
    },
    {
      "cell_type": "markdown",
      "metadata": {
        "id": "lTcoVByO4Y6k"
      },
      "source": [
        "## 量子ビットの操作"
      ]
    },
    {
      "cell_type": "markdown",
      "metadata": {
        "id": "XJ5BBFSV4VnR"
      },
      "source": [
        "### １量子ビットの計算"
      ]
    },
    {
      "cell_type": "code",
      "metadata": {
        "colab": {
          "base_uri": "https://localhost:8080/"
        },
        "id": "SrnUTBH_4K-Q",
        "outputId": "45dd86b7-668a-493a-e60e-eefe8d5be7cb"
      },
      "source": [
        "!pip install blueqat"
      ],
      "execution_count": 1,
      "outputs": [
        {
          "output_type": "stream",
          "text": [
            "Collecting blueqat\n",
            "\u001b[?25l  Downloading https://files.pythonhosted.org/packages/42/44/58c8fb85d0f7fb40eee88da1181ca698874e2484d5fdb8c0266ad82e0ec3/blueqat-0.4.2-py3-none-any.whl (62kB)\n",
            "\r\u001b[K     |█████▎                          | 10kB 15.3MB/s eta 0:00:01\r\u001b[K     |██████████▌                     | 20kB 22.0MB/s eta 0:00:01\r\u001b[K     |███████████████▊                | 30kB 26.8MB/s eta 0:00:01\r\u001b[K     |█████████████████████           | 40kB 26.5MB/s eta 0:00:01\r\u001b[K     |██████████████████████████▎     | 51kB 27.0MB/s eta 0:00:01\r\u001b[K     |███████████████████████████████▌| 61kB 22.7MB/s eta 0:00:01\r\u001b[K     |████████████████████████████████| 71kB 6.7MB/s \n",
            "\u001b[?25hRequirement already satisfied: scipy>=1.1.0 in /usr/local/lib/python3.7/dist-packages (from blueqat) (1.4.1)\n",
            "Requirement already satisfied: numpy~=1.12 in /usr/local/lib/python3.7/dist-packages (from blueqat) (1.19.5)\n",
            "Installing collected packages: blueqat\n",
            "Successfully installed blueqat-0.4.2\n"
          ],
          "name": "stdout"
        }
      ]
    },
    {
      "cell_type": "markdown",
      "metadata": {
        "id": "Tamscjo34duS"
      },
      "source": [
        "### 量子回路の作成"
      ]
    },
    {
      "cell_type": "markdown",
      "metadata": {
        "id": "t3fCE3xT4fE7"
      },
      "source": [
        "量子コンピュータでは、量子ゲートを順番に繋げた、量子回路を作ります。\n",
        "\n",
        "Circuitで回路を準備し、その後ろに量子ゲートを繋げます。\n",
        "\n",
        "今回はxゲートを0番目の量子ビットにかけてみましょう。\n",
        "xと書き、カッコの中に量子ビットの番号である0を入れます。\n",
        "\n",
        "最後に答えを取り出す測定を、mと書いて、runで100回実行をします。\n",
        "\n",
        "最初に回路を作るためのツール読み込み、２行目に量子回路を書いてみます。"
      ]
    },
    {
      "cell_type": "code",
      "metadata": {
        "colab": {
          "base_uri": "https://localhost:8080/"
        },
        "id": "8ScrqFn44Nq-",
        "outputId": "5f377428-dee3-4c56-90c1-6c04bd21d51f"
      },
      "source": [
        "from blueqat import Circuit\n",
        "Circuit().x[0].m[:].run(shots=100)"
      ],
      "execution_count": 2,
      "outputs": [
        {
          "output_type": "execute_result",
          "data": {
            "text/plain": [
              "Counter({'1': 100})"
            ]
          },
          "metadata": {
            "tags": []
          },
          "execution_count": 2
        }
      ]
    },
    {
      "cell_type": "markdown",
      "metadata": {
        "id": "INztIehb4tDV"
      },
      "source": [
        "答えは1が100回出ました。 \n",
        "\n",
        "このとき、量子回路は0からスタートし、以下のようになります。\n",
        "\n",
        "0 ----X---\n",
        "\n",
        "今回は0からスタートし、0を1にするXゲートを使って最初の計算を行いました。"
      ]
    },
    {
      "cell_type": "markdown",
      "metadata": {
        "id": "8d5gFh_n4zZC"
      },
      "source": [
        "ここでは 1量子ビット操作の概要を説明します。"
      ]
    },
    {
      "cell_type": "markdown",
      "metadata": {
        "id": "jYNqG8_l42NQ"
      },
      "source": [
        "### 量子ビット"
      ]
    },
    {
      "cell_type": "markdown",
      "metadata": {
        "id": "HiynE6Fh45v0"
      },
      "source": [
        "古典コンピュータは1bitに対して0または1の値を入力することができます。\n",
        "\n",
        "量子ビットでは1bitのことを1qubitと言い、ベクトルで表現します。\n",
        "\n",
        "$\\lvert0\\rangle$, $\\lvert1\\rangle$ はそれぞれ"
      ]
    },
    {
      "cell_type": "markdown",
      "metadata": {
        "id": "Rra39a_E47cd"
      },
      "source": [
        "$$\n",
        "\\lvert0\\rangle = \\begin{pmatrix}1\\\\0\\end{pmatrix} , \\lvert 1 \\rangle = \\begin{pmatrix}0\\\\1\\end{pmatrix}\n",
        "$$"
      ]
    },
    {
      "cell_type": "markdown",
      "metadata": {
        "id": "j3pZXPrY5PqR"
      },
      "source": [
        "と表します。"
      ]
    },
    {
      "cell_type": "markdown",
      "metadata": {
        "id": "PSbpjJpL5S7A"
      },
      "source": [
        "一般的に1qubitには $\\lvert0\\rangle$, $\\lvert1\\rangle$ と複素数 $\\alpha,\\beta$ を用いて $\\alpha\\lvert0\\rangle+\\beta\\lvert1\\rangle$ で表せます。\n",
        "\n",
        "\n",
        "ただし、\n",
        "\n"
      ]
    },
    {
      "cell_type": "markdown",
      "metadata": {
        "id": "nUpyt7tK5Xrf"
      },
      "source": [
        "$$\n",
        "|\\alpha|^2 + |\\beta|^2 = 1\n",
        "$$"
      ]
    },
    {
      "cell_type": "markdown",
      "metadata": {
        "id": "4l92FlUZ5Zaq"
      },
      "source": [
        "である必要があります。"
      ]
    },
    {
      "cell_type": "markdown",
      "metadata": {
        "id": "mKKXuOdyDpiM"
      },
      "source": [
        "### 回路の作成"
      ]
    },
    {
      "cell_type": "markdown",
      "metadata": {
        "id": "OI-89EJiDsK9"
      },
      "source": [
        "初期値を $|0\\rangle$ とします。"
      ]
    },
    {
      "cell_type": "markdown",
      "metadata": {
        "id": "1SPmCzyPDuz9"
      },
      "source": [
        "回路はゲートと呼ばれる行列をかけて作ります。\n",
        "\n",
        "試しにXゲートをかけてみます。\n",
        "\n",
        "Xゲートは以下のような行列です。"
      ]
    },
    {
      "cell_type": "markdown",
      "metadata": {
        "id": "dWiHACE2D6BO"
      },
      "source": [
        "$$\n",
        "X = \\begin{pmatrix} 0&1\\\\1&0\\end{pmatrix}\n",
        "$$"
      ]
    },
    {
      "cell_type": "markdown",
      "metadata": {
        "id": "uo-_nIdbEFBC"
      },
      "source": [
        "これを $|0\\rangle$ にかけると"
      ]
    },
    {
      "cell_type": "markdown",
      "metadata": {
        "id": "BN8IlhKNEHK4"
      },
      "source": [
        "$$\n",
        "X \\lvert 0 \\rangle = \\begin{pmatrix} 0&1\\\\1&0\\end{pmatrix}\\begin{pmatrix}1\\\\0\\end{pmatrix} = \\begin{pmatrix}0\\\\1\\end{pmatrix} = \\lvert 1 \\rangle\n",
        "$$\n"
      ]
    },
    {
      "cell_type": "markdown",
      "metadata": {
        "id": "POxOHg2XEOhu"
      },
      "source": [
        "と $\\lvert1\\rangle$ に反転できることがわかります。"
      ]
    },
    {
      "cell_type": "markdown",
      "metadata": {
        "id": "7ATV48i7E-Uu"
      },
      "source": [
        "### 測定"
      ]
    },
    {
      "cell_type": "markdown",
      "metadata": {
        "id": "MC9vDsOIFBR_"
      },
      "source": [
        "量子コンピュータでは確率的に 0,1 が出力されますがこの出力させる操作を測定と言います。\n",
        "\n",
        "0,1 それぞれの出力される確率は $\\alpha\\lvert0\\rangle+\\beta\\lvert1\\rangle$ に対して、それぞれ $|\\alpha|^2, |\\beta|^2$ となります。"
      ]
    },
    {
      "cell_type": "markdown",
      "metadata": {
        "id": "b2XxOSG3On8j"
      },
      "source": [
        "例えば以下のようなビットを考えます。"
      ]
    },
    {
      "cell_type": "markdown",
      "metadata": {
        "id": "MFB0AXKMOp7G"
      },
      "source": [
        "$$\n",
        "\\frac{1}{\\sqrt{2}}\\lvert0\\rangle + \\frac{1}{\\sqrt{2}}\\lvert1\\rangle = \\frac{1}{\\sqrt{2}}\\begin{pmatrix}1\\\\1\\end{pmatrix}\n",
        "$$"
      ]
    },
    {
      "cell_type": "markdown",
      "metadata": {
        "id": "zxa3yF07Owzv"
      },
      "source": [
        "これを1回測定すると 0,1 が出力される確率はそれぞれ 1/2 となります。\n",
        "\n",
        "つまり100回測定した場合は 0,1 はそれぞれ 50回ずつ出力されます。"
      ]
    },
    {
      "cell_type": "markdown",
      "metadata": {
        "id": "kwqt9THfO2a4"
      },
      "source": [
        "### 状態ベクトル"
      ]
    },
    {
      "cell_type": "markdown",
      "metadata": {
        "id": "mZs2L1L3O5vz"
      },
      "source": [
        "一般的に上記で述べたベクトルを状態ベクトルと言います。\n",
        "\n",
        "回路を作成し最終的にできた状態ベクトルは測定をした場合に 0,1 で出力されます。\n",
        "\n",
        "Blueqatで状態ベクトルを求めるには、測定をせずに.run()メソッドを実行します。"
      ]
    },
    {
      "cell_type": "code",
      "metadata": {
        "colab": {
          "base_uri": "https://localhost:8080/"
        },
        "id": "0lPHZwT_D4pD",
        "outputId": "1fe475ba-c02a-4b14-e742-e8f4cace9893"
      },
      "source": [
        "Circuit().h[0].run()"
      ],
      "execution_count": 4,
      "outputs": [
        {
          "output_type": "execute_result",
          "data": {
            "text/plain": [
              "array([0.70710678+0.j, 0.70710678+0.j])"
            ]
          },
          "metadata": {
            "tags": []
          },
          "execution_count": 4
        }
      ]
    },
    {
      "cell_type": "markdown",
      "metadata": {
        "id": "CkczAu9QQNT2"
      },
      "source": [
        "### ２量子ビットの計算"
      ]
    },
    {
      "cell_type": "markdown",
      "metadata": {
        "id": "GA71MUi3QTu1"
      },
      "source": [
        "量子コンピュータでは、複数の量子ビットの操作により、複雑な計算を行うことができます。"
      ]
    },
    {
      "cell_type": "markdown",
      "metadata": {
        "id": "JpKGynPzQVbx"
      },
      "source": [
        "### 量子回路の作成"
      ]
    },
    {
      "cell_type": "markdown",
      "metadata": {
        "id": "0Ua5uEJbQXub"
      },
      "source": [
        "量子回路の作成方法は１量子ビットの場合と同じです。CXゲートを使ってみます。\n",
        "\n",
        "小文字でcxと書き、カッコの中に、0と1をカンマで繋げて記入します。\n",
        "\n",
        "そして、測定を行うmをかいて、runで100回実行します。"
      ]
    },
    {
      "cell_type": "code",
      "metadata": {
        "colab": {
          "base_uri": "https://localhost:8080/"
        },
        "id": "0yudlO6cPGFv",
        "outputId": "2dfdb1e8-c9bd-4f56-e2eb-3b4309167abc"
      },
      "source": [
        "Circuit().cx[0,1].m[:].run(shots=100)"
      ],
      "execution_count": 5,
      "outputs": [
        {
          "output_type": "execute_result",
          "data": {
            "text/plain": [
              "Counter({'00': 100})"
            ]
          },
          "metadata": {
            "tags": []
          },
          "execution_count": 5
        }
      ]
    },
    {
      "cell_type": "markdown",
      "metadata": {
        "id": "40oH4dbgQ3iT"
      },
      "source": [
        "00という答えが100回出ました。\n"
      ]
    },
    {
      "cell_type": "markdown",
      "metadata": {
        "id": "C5g5x_8aQfXc"
      },
      "source": [
        "CXゲートは、「コントロールビット」と「ターゲットビット」を順番に指定します。\n",
        "\n",
        "これは、コントロールビットの値が1の時だけ、ターゲットビットにXゲートをかけます。"
      ]
    },
    {
      "cell_type": "markdown",
      "metadata": {
        "id": "ygwswWE6Q0MX"
      },
      "source": [
        "今回は、量子ビットは、両方とも0からスタートして、cxゲートがかかりました。\n",
        "\n",
        "コントロールビットが0なので、ターゲットビットには何もおきません。回路は以下のようになります。"
      ]
    },
    {
      "cell_type": "markdown",
      "metadata": {
        "id": "aWRQdX8nQrtg"
      },
      "source": [
        "0 ---*---\n",
        "     \n",
        "     |\n",
        "0 ---X---"
      ]
    },
    {
      "cell_type": "markdown",
      "metadata": {
        "id": "MoCiwi7YQwgR"
      },
      "source": [
        "次にコントロールビットにXゲートをかけて、0を1にしてから、CXゲートをかけてみます。"
      ]
    },
    {
      "cell_type": "code",
      "metadata": {
        "colab": {
          "base_uri": "https://localhost:8080/"
        },
        "id": "2F06nlcIQcFA",
        "outputId": "0a540eed-8694-4de2-a765-bbbcdc80760d"
      },
      "source": [
        "Circuit().x[0].cx[0,1].m[:].run(shots=1)"
      ],
      "execution_count": 6,
      "outputs": [
        {
          "output_type": "execute_result",
          "data": {
            "text/plain": [
              "Counter({'11': 1})"
            ]
          },
          "metadata": {
            "tags": []
          },
          "execution_count": 6
        }
      ]
    },
    {
      "cell_type": "markdown",
      "metadata": {
        "id": "7udw-nRGRHyp"
      },
      "source": [
        "110となりました。最初の2量子ビットは計算に使用されましたが、最後の量子ビットは使用されないままでした。以上です。"
      ]
    },
    {
      "cell_type": "markdown",
      "metadata": {
        "id": "sSz3SuxKZOnO"
      },
      "source": [
        "### 量子ビット(２量子ビット）"
      ]
    },
    {
      "cell_type": "markdown",
      "metadata": {
        "id": "-rHZ8c5LZVwn"
      },
      "source": [
        "２量子ビットの場合は 00, 01, 10, 11 は以下のような状態ベクトルで表します。"
      ]
    },
    {
      "cell_type": "markdown",
      "metadata": {
        "id": "lI5LEJ-AZXoI"
      },
      "source": [
        "\n",
        "00 の状態ベクトルはテンソル積を用いると以下のように計算できます。"
      ]
    },
    {
      "cell_type": "markdown",
      "metadata": {
        "id": "Y-_OOll0Z7T0"
      },
      "source": [
        "$$\n",
        "\\lvert00\\rangle = \\begin{pmatrix}1\\\\0\\\\0\\\\0\\end{pmatrix} , \n",
        "\\lvert01\\rangle = \\begin{pmatrix}0\\\\1\\\\0\\\\0\\end{pmatrix} , \n",
        "\\lvert10\\rangle = \\begin{pmatrix}0\\\\0\\\\1\\\\0\\end{pmatrix} , \n",
        "\\lvert11\\rangle = \\begin{pmatrix}0\\\\0\\\\0\\\\1\\end{pmatrix} \n",
        "$$"
      ]
    },
    {
      "cell_type": "markdown",
      "metadata": {
        "id": "OVI4axBXab5T"
      },
      "source": [
        "00 の状態ベクトルはテンソル積を用いると以下のように計算できます。"
      ]
    },
    {
      "cell_type": "markdown",
      "metadata": {
        "id": "bKriD8g1adYZ"
      },
      "source": [
        "![image.png](data:image/png;base64,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)"
      ]
    },
    {
      "cell_type": "markdown",
      "metadata": {
        "id": "aV9IKMR_aypg"
      },
      "source": [
        "### CX回路"
      ]
    },
    {
      "cell_type": "markdown",
      "metadata": {
        "id": "iPF2cr2da1LX"
      },
      "source": [
        "CXゲートはコントロールビットが1ならばターゲットビットにXゲートを施すものです。\n",
        "\n",
        "CXゲートは以下のような行列です。"
      ]
    },
    {
      "cell_type": "markdown",
      "metadata": {
        "id": "rmEro_IJa-ts"
      },
      "source": [
        "![image.png](data:image/png;base64,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)"
      ]
    },
    {
      "cell_type": "markdown",
      "metadata": {
        "id": "uAWGt4PPhjJw"
      },
      "source": [
        "00 にCXゲートを施すと以下のようになります。"
      ]
    },
    {
      "cell_type": "markdown",
      "metadata": {
        "id": "LwRKy564hmKP"
      },
      "source": [
        "![image.png](data:image/png;base64,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)"
      ]
    },
    {
      "cell_type": "markdown",
      "metadata": {
        "id": "4AYo_Dxohqt2"
      },
      "source": [
        "この場合コントロールビットは0なので何も変化しません。"
      ]
    },
    {
      "cell_type": "markdown",
      "metadata": {
        "id": "hdIdf3S1iCm2"
      },
      "source": [
        "次に 10 にCXゲートを施すと以下のようになります。"
      ]
    },
    {
      "cell_type": "markdown",
      "metadata": {
        "id": "HIx_KscciFgj"
      },
      "source": [
        "![image.png](data:image/png;base64,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)"
      ]
    },
    {
      "cell_type": "markdown",
      "metadata": {
        "id": "UARtwenLiHtZ"
      },
      "source": [
        "この場合コントロールビットは1なのでターゲットビットが反転して1になっているのがわかります。"
      ]
    },
    {
      "cell_type": "markdown",
      "metadata": {
        "id": "n_mofebQiLkk"
      },
      "source": [
        "### 測定"
      ]
    },
    {
      "cell_type": "markdown",
      "metadata": {
        "id": "sC8XjUZLiNsC"
      },
      "source": [
        "２量子ビットの場合の測定は 00, 01, 10, 11 が確率的に観測されます。\n",
        "それぞれ出力される確率は１量子ビットの場合と同じように各係数の絶対値の2乗となります。"
      ]
    },
    {
      "cell_type": "markdown",
      "metadata": {
        "id": "BzGqVmXjiPMG"
      },
      "source": [
        "例えば以下のような状態ベクトルを考えます。"
      ]
    },
    {
      "cell_type": "markdown",
      "metadata": {
        "id": "SRR-lpVciRfR"
      },
      "source": [
        "![image.png](data:image/png;base64,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)"
      ]
    },
    {
      "cell_type": "markdown",
      "metadata": {
        "id": "yhIXsEhZikxv"
      },
      "source": [
        "これを1回測定すると 00, 01, 10, 11 が出力される確率は 1/4 となります。"
      ]
    },
    {
      "cell_type": "markdown",
      "metadata": {
        "id": "kjGOfOydim5Q"
      },
      "source": [
        "### 2量子ビット以上の場合"
      ]
    },
    {
      "cell_type": "markdown",
      "metadata": {
        "id": "kWrcPWKgiqEQ"
      },
      "source": [
        "３量子ビットの場合で最初の２量子ビットにCXゲートをかけるとします。 100 にCXを施したとき計算は以下のようになります。"
      ]
    },
    {
      "cell_type": "markdown",
      "metadata": {
        "id": "noz6wnJuir2P"
      },
      "source": [
        "![image.png](data:image/png;base64,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)"
      ]
    },
    {
      "cell_type": "markdown",
      "metadata": {
        "id": "hZZ1HyCOitwZ"
      },
      "source": [
        "上の式から最後のビットには何も変化しない行列Iを施して計算していることがわかります。"
      ]
    },
    {
      "cell_type": "code",
      "metadata": {
        "id": "mLKO2KyqZ6S5"
      },
      "source": [
        ""
      ],
      "execution_count": null,
      "outputs": []
    }
  ]
}